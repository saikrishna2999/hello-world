{
  "nbformat": 4,
  "nbformat_minor": 0,
  "metadata": {
    "colab": {
      "name": "linear_regression.ipynb",
      "provenance": [],
      "collapsed_sections": [],
      "authorship_tag": "ABX9TyNqQFUxkomF1HpteXBeHn+T",
      "include_colab_link": true
    },
    "kernelspec": {
      "name": "python3",
      "display_name": "Python 3"
    }
  },
  "cells": [
    {
      "cell_type": "markdown",
      "metadata": {
        "id": "view-in-github",
        "colab_type": "text"
      },
      "source": [
        "<a href=\"https://colab.research.google.com/github/saikrishna2999/hello-world/blob/master/linear_regression.ipynb\" target=\"_parent\"><img src=\"https://colab.research.google.com/assets/colab-badge.svg\" alt=\"Open In Colab\"/></a>"
      ]
    },
    {
      "cell_type": "code",
      "metadata": {
        "id": "3UU7wI3cddma",
        "colab_type": "code",
        "colab": {}
      },
      "source": [
        "import numpy as np \n",
        "import tensorflow as tf \n",
        "import matplotlib.pyplot as plt \n"
      ],
      "execution_count": 0,
      "outputs": []
    },
    {
      "cell_type": "markdown",
      "metadata": {
        "id": "yuybvdeYkTwB",
        "colab_type": "text"
      },
      "source": [
        "# New Section"
      ]
    },
    {
      "cell_type": "code",
      "metadata": {
        "id": "u3CC9-O6diSY",
        "colab_type": "code",
        "colab": {}
      },
      "source": [
        "\n",
        "np.random.seed(101) \n",
        "tf.set_random_seed(101) "
      ],
      "execution_count": 0,
      "outputs": []
    },
    {
      "cell_type": "code",
      "metadata": {
        "id": "BeeCyYoSdkde",
        "colab_type": "code",
        "colab": {
          "base_uri": "https://localhost:8080/",
          "height": 170
        },
        "outputId": "a44ad962-6d95-4fd3-99f4-bca93674c70e"
      },
      "source": [
        "# Genrating random linear data \n",
        "# There will be 50 data points ranging from 0 to 50 \n",
        "x = np.linspace(0, 50, 50) \n",
        "y = np.linspace(0, 50, 50) \n",
        "print(x)\n",
        "  \n",
        "# Adding noise to the random linear data \n",
        "x += np.random.uniform(-4, 4, 50) \n",
        "y += np.random.uniform(-4, 4, 50) \n",
        "  \n",
        "n = len(x) # Number of data points "
      ],
      "execution_count": 34,
      "outputs": [
        {
          "output_type": "stream",
          "text": [
            "[ 0.          1.02040816  2.04081633  3.06122449  4.08163265  5.10204082\n",
            "  6.12244898  7.14285714  8.16326531  9.18367347 10.20408163 11.2244898\n",
            " 12.24489796 13.26530612 14.28571429 15.30612245 16.32653061 17.34693878\n",
            " 18.36734694 19.3877551  20.40816327 21.42857143 22.44897959 23.46938776\n",
            " 24.48979592 25.51020408 26.53061224 27.55102041 28.57142857 29.59183673\n",
            " 30.6122449  31.63265306 32.65306122 33.67346939 34.69387755 35.71428571\n",
            " 36.73469388 37.75510204 38.7755102  39.79591837 40.81632653 41.83673469\n",
            " 42.85714286 43.87755102 44.89795918 45.91836735 46.93877551 47.95918367\n",
            " 48.97959184 50.        ]\n"
          ],
          "name": "stdout"
        }
      ]
    },
    {
      "cell_type": "code",
      "metadata": {
        "id": "bkcKBcD6dng_",
        "colab_type": "code",
        "colab": {
          "base_uri": "https://localhost:8080/",
          "height": 295
        },
        "outputId": "9d1da05e-6f0a-4720-f5a3-6c3975120b00"
      },
      "source": [
        "# Plot of Training Data \n",
        "plt.scatter(x, y) \n",
        "plt.xlabel('x') \n",
        "plt.ylabel('y') \n",
        "plt.title(\"Training Data\") \n",
        "plt.show() "
      ],
      "execution_count": 37,
      "outputs": [
        {
          "output_type": "display_data",
          "data": {
            "image/png": "[encoded data removed]",
            "text/plain": [
              "<Figure size 432x288 with 1 Axes>"
            ]
          },
          "metadata": {
            "tags": []
          }
        }
      ]
    },
    {
      "cell_type": "code",
      "metadata": {
        "id": "azwsBydWd9Xv",
        "colab_type": "code",
        "colab": {}
      },
      "source": [
        "X= tf.placeholder(\"float\") \n",
        "Y = tf.placeholder(\"float\")"
      ],
      "execution_count": 0,
      "outputs": []
    },
    {
      "cell_type": "code",
      "metadata": {
        "id": "tz7EQPQqeI3n",
        "colab_type": "code",
        "colab": {}
      },
      "source": [
        "W = tf.Variable(np.random.randn(), name = \"W\") \n",
        "b = tf.Variable(np.random.randn(), name = \"b\") "
      ],
      "execution_count": 0,
      "outputs": []
    },
    {
      "cell_type": "code",
      "metadata": {
        "id": "hQOybLVoeLMO",
        "colab_type": "code",
        "colab": {}
      },
      "source": [
        "learning_rate = 0.01\n",
        "training_epochs = 1000"
      ],
      "execution_count": 0,
      "outputs": []
    },
    {
      "cell_type": "code",
      "metadata": {
        "id": "D0UO3bb4eNeu",
        "colab_type": "code",
        "colab": {
          "base_uri": "https://localhost:8080/",
          "height": 357
        },
        "outputId": "2bf13d0c-b4bd-4dc2-9061-714f25b0dd65"
      },
      "source": [
        "# Hypothesis \n",
        "y_pred = tf.add(tf.multiply(X, W), b) \n",
        "  \n",
        "# Mean Squared Error Cost Function \n",
        "cost = tf.reduce_sum(tf.pow(y_pred-Y, 2)) / (2 * n) \n",
        "  \n",
        "# Gradient Descent Optimizer \n",
        "optimizer = tf.train.GradientDescentOptimizer(learning_rate).minimize(cost) \n",
        "  \n",
        "# Global Variables Initializer \n",
        "init = tf.global_variables_initializer() \n",
        "#Now we will begin the training process inside a Tensorflow Session.\n",
        "\n",
        "# Starting the Tensorflow Session \n",
        "with tf.Session() as sess: \n",
        "      \n",
        "    # Initializing the Variables \n",
        "    sess.run(init) \n",
        "      \n",
        "    # Iterating through all the epochs \n",
        "    for epoch in range(training_epochs): \n",
        "          \n",
        "        # Feeding each data point into the optimizer using Feed Dictionary \n",
        "        for (_x, _y) in zip(x, y): \n",
        "            sess.run(optimizer, feed_dict = {X : _x, Y : _y}) \n",
        "          \n",
        "        # Displaying the result after every 50 epochs \n",
        "        if (epoch + 1) % 50 == 0: \n",
        "            # Calculating the cost a every epoch \n",
        "            c = sess.run(cost, feed_dict = {X : x, Y : y}) \n",
        "            print(\"Epoch\", (epoch + 1), \": cost =\", c, \"W =\", sess.run(W), \"b =\", sess.run(b)) \n",
        "      \n",
        "    # Storing necessary values to be used outside the Session \n",
        "    training_cost = sess.run(cost, feed_dict ={X: x, Y: y}) \n",
        "    weight = sess.run(W) \n",
        "    bias = sess.run(b) "
      ],
      "execution_count": 41,
      "outputs": [
        {
          "output_type": "stream",
          "text": [
            "Epoch 50 : cost = 4.839938 W = 1.0150766 b = -0.79254663\n",
            "Epoch 100 : cost = 4.803437 W = 1.0121901 b = -0.6522406\n",
            "Epoch 150 : cost = 4.776212 W = 1.0096043 b = -0.52655894\n",
            "Epoch 200 : cost = 4.756218 W = 1.0072882 b = -0.4139777\n",
            "Epoch 250 : cost = 4.741831 W = 1.0052134 b = -0.3131286\n",
            "Epoch 300 : cost = 4.731769 W = 1.0033548 b = -0.22279221\n",
            "Epoch 350 : cost = 4.7250276 W = 1.00169 b = -0.14187147\n",
            "Epoch 400 : cost = 4.7208066 W = 1.0001987 b = -0.06938505\n",
            "Epoch 450 : cost = 4.718488 W = 0.99886286 b = -0.004453741\n",
            "Epoch 500 : cost = 4.7175817 W = 0.99766624 b = 0.053709846\n",
            "Epoch 550 : cost = 4.717712 W = 0.99659437 b = 0.1058109\n",
            "Epoch 600 : cost = 4.718582 W = 0.9956342 b = 0.15248159\n",
            "Epoch 650 : cost = 4.7199674 W = 0.9947741 b = 0.1942881\n",
            "Epoch 700 : cost = 4.7216954 W = 0.9940037 b = 0.23173639\n",
            "Epoch 750 : cost = 4.7236314 W = 0.99331355 b = 0.26528108\n",
            "Epoch 800 : cost = 4.7256794 W = 0.9926954 b = 0.2953304\n",
            "Epoch 850 : cost = 4.727764 W = 0.9921416 b = 0.32224804\n",
            "Epoch 900 : cost = 4.729833 W = 0.99164546 b = 0.34636024\n",
            "Epoch 950 : cost = 4.7318482 W = 0.99120116 b = 0.367958\n",
            "Epoch 1000 : cost = 4.733783 W = 0.99080306 b = 0.38730532\n"
          ],
          "name": "stdout"
        }
      ]
    },
    {
      "cell_type": "code",
      "metadata": {
        "id": "VraOWhQmeQ6H",
        "colab_type": "code",
        "colab": {
          "base_uri": "https://localhost:8080/",
          "height": 51
        },
        "outputId": "2d704cad-ef2f-483b-a415-4c0607039f2d"
      },
      "source": [
        "predictions = weight * x + bias \n",
        "print(\"Training cost =\", training_cost, \"Weight =\", weight, \"bias =\", bias, '\\n') \n"
      ],
      "execution_count": 42,
      "outputs": [
        {
          "output_type": "stream",
          "text": [
            "Training cost = 4.733783 Weight = 0.99080306 bias = 0.38730532 \n",
            "\n"
          ],
          "name": "stdout"
        }
      ]
    },
    {
      "cell_type": "code",
      "metadata": {
        "id": "rDvM4TeGeUwP",
        "colab_type": "code",
        "colab": {
          "base_uri": "https://localhost:8080/",
          "height": 281
        },
        "outputId": "1c0ab8e0-9056-4b81-ec50-4149a9e4923c"
      },
      "source": [
        "# Plotting the Results \n",
        "plt.plot(x, y, 'ro', label ='Original data') \n",
        "plt.plot(x, predictions, label ='Fitted line') \n",
        "plt.title('Linear Regression Result') \n",
        "plt.legend() \n",
        "plt.show() \n"
      ],
      "execution_count": 26,
      "outputs": [
        {
          "output_type": "display_data",
          "data": {
            "image/png": "[encoded data removed]",
            "text/plain": [
              "<Figure size 432x288 with 1 Axes>"
            ]
          },
          "metadata": {
            "tags": []
          }
        }
      ]
    },
    {
      "cell_type": "code",
      "metadata": {
        "id": "grVhFLxRebJH",
        "colab_type": "code",
        "colab": {}
      },
      "source": [
        ""
      ],
      "execution_count": 0,
      "outputs": []
    }
  ]
}