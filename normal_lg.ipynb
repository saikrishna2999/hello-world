{
  "nbformat": 4,
  "nbformat_minor": 0,
  "metadata": {
    "colab": {
      "name": "normal_lg.ipynb",
      "provenance": [],
      "collapsed_sections": [],
      "authorship_tag": "ABX9TyMpRR03RWp+faQxY77BST+H",
      "include_colab_link": true
    },
    "kernelspec": {
      "name": "python3",
      "display_name": "Python 3"
    }
  },
  "cells": [
    {
      "cell_type": "markdown",
      "metadata": {
        "id": "view-in-github",
        "colab_type": "text"
      },
      "source": [
        "<a href=\"https://colab.research.google.com/github/saikrishna2999/hello-world/blob/master/normal_lg.ipynb\" target=\"_parent\"><img src=\"https://colab.research.google.com/assets/colab-badge.svg\" alt=\"Open In Colab\"/></a>"
      ]
    },
    {
      "cell_type": "code",
      "metadata": {
        "id": "mFH_mHkvlTc9",
        "colab_type": "code",
        "colab": {}
      },
      "source": [
        "import numpy as np\n",
        "import pandas as pd\n",
        "import seaborn as sns\n",
        "import matplotlib.pyplot as plt"
      ],
      "execution_count": 0,
      "outputs": []
    },
    {
      "cell_type": "code",
      "metadata": {
        "id": "Z3SZwgd_nCZw",
        "colab_type": "code",
        "colab": {
          "base_uri": "https://localhost:8080/",
          "height": 85
        },
        "outputId": "30d06dda-86cd-46ef-e15c-a3c2a8f0841f"
      },
      "source": [
        "trainingData=pd.DataFrame(data=[[1,1],[2,2],[4,4]],columns=['x1','y'])\n",
        "print(trainingData)"
      ],
      "execution_count": 3,
      "outputs": [
        {
          "output_type": "stream",
          "text": [
            "   x1  y\n",
            "0   1  1\n",
            "1   2  2\n",
            "2   4  4\n"
          ],
          "name": "stdout"
        }
      ]
    },
    {
      "cell_type": "code",
      "metadata": {
        "id": "JM5euftWnSuk",
        "colab_type": "code",
        "colab": {}
      },
      "source": [
        "trainingData.insert(0,'x0',np.ones(3))"
      ],
      "execution_count": 0,
      "outputs": []
    },
    {
      "cell_type": "code",
      "metadata": {
        "id": "667tMSWEngWO",
        "colab_type": "code",
        "colab": {
          "base_uri": "https://localhost:8080/",
          "height": 85
        },
        "outputId": "7ded9014-6fde-4b64-9a00-9b5307708a46"
      },
      "source": [
        "print(trainingData)"
      ],
      "execution_count": 5,
      "outputs": [
        {
          "output_type": "stream",
          "text": [
            "    x0  x1  y\n",
            "0  1.0   1  1\n",
            "1  1.0   2  2\n",
            "2  1.0   4  4\n"
          ],
          "name": "stdout"
        }
      ]
    },
    {
      "cell_type": "code",
      "metadata": {
        "id": "gKM5glZdninU",
        "colab_type": "code",
        "colab": {
          "base_uri": "https://localhost:8080/",
          "height": 369
        },
        "outputId": "e2f3f885-428e-4053-f572-4d296f1a8b4c"
      },
      "source": [
        "with sns.axes_style(\"darkgrid\"):\n",
        "  g=sns.lmplot('x1','y',trainingData[['x1','y']],markers='o',fit_reg=False)\n",
        "  g.set(ylim=(0,None))\n",
        "  g.set(xlim=(0,None))"
      ],
      "execution_count": 6,
      "outputs": [
        {
          "output_type": "display_data",
          "data": {
            "image/png": "[encoded data removed]",
            "text/plain": [
              "<Figure size 360x360 with 1 Axes>"
            ]
          },
          "metadata": {
            "tags": []
          }
        }
      ]
    },
    {
      "cell_type": "code",
      "metadata": {
        "id": "qZ3QwZDToGcE",
        "colab_type": "code",
        "colab": {}
      },
      "source": [
        "X=trainingData[['x0','x1']]\n",
        "y=trainingData[['y']]\n",
        "xTx=X.T.dot(X)\n",
        "XtX=np.linalg.inv(xTx)\n",
        "XtX_xT=XtX.dot(X.T)\n",
        "theta=XtX_xT.dot(y)"
      ],
      "execution_count": 0,
      "outputs": []
    },
    {
      "cell_type": "code",
      "metadata": {
        "id": "fici4NV-oZfP",
        "colab_type": "code",
        "colab": {
          "base_uri": "https://localhost:8080/",
          "height": 281
        },
        "outputId": "3fe3ec74-b94b-46a2-fcb8-b749dc30b54a"
      },
      "source": [
        "# generate the y axis for the hypothesis function\n",
        "hypothesis = [(x, theta[0] + x*theta[1]) for x in range(6)]\n",
        "\n",
        "with sns.axes_style(\"darkgrid\"):\n",
        "    fig, ax = plt.subplots()\n",
        "    ax.set_title('Linear Regression with the Normal Equation')\n",
        "    ax.plot(trainingData['x1'], trainingData['y'], 'o', label = 'data')\n",
        "    ax.plot([x for x in range(6)], hypothesis, 'k-', label = 'hypothesis')\n",
        "    ax.legend(['Data', 'Hypothesis'], loc='best')\n",
        "    ax.set(ylim=(0, 5))\n",
        "    ax.set(xlim=(0, 5))"
      ],
      "execution_count": 9,
      "outputs": [
        {
          "output_type": "display_data",
          "data": {
            "image/png": "[encoded data removed]",
            "text/plain": [
              "<Figure size 432x288 with 1 Axes>"
            ]
          },
          "metadata": {
            "tags": []
          }
        }
      ]
    },
    {
      "cell_type": "code",
      "metadata": {
        "id": "JglCjXH2ozi1",
        "colab_type": "code",
        "colab": {}
      },
      "source": [
        ""
      ],
      "execution_count": 0,
      "outputs": []
    }
  ]
}